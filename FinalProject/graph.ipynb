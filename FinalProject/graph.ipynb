{
  "nbformat": 4,
  "nbformat_minor": 0,
  "metadata": {
    "colab": {
      "provenance": []
    },
    "kernelspec": {
      "name": "python3",
      "display_name": "Python 3"
    },
    "language_info": {
      "name": "python"
    }
  },
  "cells": [
    {
      "cell_type": "code",
      "source": [
        "import matplotlib.pyplot as plt\n",
        "from google.colab import drive\n",
        "\n",
        "# Mount Google Drive\n",
        "drive.mount('/content/drive')\n",
        "\n",
        "# Data from the table\n",
        "epochs = [1, 2, 3, 4, 5]\n",
        "train_loss = [57.6546, 57.1192, 56.9639, 55.3775, 54.5851]\n",
        "train_accuracy = [0.2345, 0.2202, 0.2324, 0.2762, 0.2968]\n",
        "train_f1 = [0.1713, 0.1639, 0.1616, 0.1900, 0.1962]\n",
        "val_loss = [57.3002, 56.7707, 56.7863, 58.7184, 59.1807]\n",
        "val_accuracy = [0.1804, 0.1804, 0.2538, 0.2314, 0.2730]\n",
        "val_f1 = [0.0552, 0.0552, 0.1028, 0.1711, 0.2256]\n",
        "\n",
        "# Plotting Train Loss and Validation Loss\n",
        "plt.figure(figsize=(6, 6))\n",
        "plt.plot(epochs, train_loss, label='Train Loss', marker='o', color='blue')\n",
        "plt.plot(epochs, val_loss, label='Validation Loss', marker='o', color='red')\n",
        "plt.title('Train and Validation Loss over Epochs')\n",
        "plt.xlabel('Epochs')\n",
        "plt.ylabel('Loss')\n",
        "plt.legend()\n",
        "# Save as separate image\n",
        "plt.tight_layout()\n",
        "plt.savefig('/content/drive/My Drive/COSE474_DeepLearning/FinalProject_Experiment/train_val_loss.png')\n",
        "plt.close()\n",
        "\n",
        "# Plotting Train Accuracy and Validation Accuracy\n",
        "plt.figure(figsize=(6, 6))\n",
        "plt.plot(epochs, train_accuracy, label='Train Accuracy', marker='o', color='green')\n",
        "plt.plot(epochs, val_accuracy, label='Validation Accuracy', marker='o', color='purple')\n",
        "plt.title('Train and Validation Accuracy over Epochs')\n",
        "plt.xlabel('Epochs')\n",
        "plt.ylabel('Accuracy')\n",
        "plt.legend()\n",
        "\n",
        "plt.tight_layout()\n",
        "plt.savefig('/content/drive/My Drive/COSE474_DeepLearning/FinalProject_Experiment/train_val_accuracy.png')\n",
        "plt.close()\n",
        "\n",
        "print(\"Plots saved to Google Drive.\")\n"
      ],
      "metadata": {
        "colab": {
          "base_uri": "https://localhost:8080/"
        },
        "id": "djxkmC43Bloc",
        "outputId": "6248b2e1-2078-42d3-9a66-e25c7acc1935"
      },
      "execution_count": 4,
      "outputs": [
        {
          "output_type": "stream",
          "name": "stdout",
          "text": [
            "Drive already mounted at /content/drive; to attempt to forcibly remount, call drive.mount(\"/content/drive\", force_remount=True).\n",
            "Plots saved to Google Drive.\n"
          ]
        }
      ]
    },
    {
      "cell_type": "code",
      "source": [],
      "metadata": {
        "id": "hz8NneUvByD7"
      },
      "execution_count": null,
      "outputs": []
    }
  ]
}